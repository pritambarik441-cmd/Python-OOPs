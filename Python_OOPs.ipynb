{
  "nbformat": 4,
  "nbformat_minor": 0,
  "metadata": {
    "colab": {
      "provenance": []
    },
    "kernelspec": {
      "name": "python3",
      "display_name": "Python 3"
    },
    "language_info": {
      "name": "python"
    }
  },
  "cells": [
    {
      "cell_type": "markdown",
      "source": [],
      "metadata": {
        "id": "LIVR1TZF7E-v"
      }
    },
    {
      "cell_type": "markdown",
      "source": [
        "# Theory Questions\n",
        "\n"
      ],
      "metadata": {
        "id": "5t2RXiQ37HQl"
      }
    },
    {
      "cell_type": "markdown",
      "metadata": {
        "id": "a92caebb"
      },
      "source": [
        "### 1. What is object-oriented programming (OOP)?\n",
        "\n",
        "Object-Oriented Programming (OOP) is a programming paradigm based on the concept of \"objects\", which can contain data in the form of fields (often known as attributes or properties) and code in the form of procedures (often known as methods). A key feature of OOP is that an object's own procedures can access and often modify its own data fields.\n",
        "\n",
        "### 2. What is a class in OOP?\n",
        "\n",
        "A class is a blueprint for creating objects. It defines a set of attributes and methods that the created objects (instances) will have. For example, you could have a `Car` class that defines attributes like `color` and `brand`, and methods like `start_engine()` and `drive()`.\n",
        "\n",
        "### 3. What is an object in OOP?\n",
        "\n",
        "An object is an instance of a class. It is a concrete entity that has the attributes and methods defined in its class. For example, a red Ferrari would be an object of the `Car` class.\n",
        "\n",
        "### 4. What is the difference between abstraction and encapsulation?\n",
        "\n",
        "*   **Abstraction:** Hides the complex implementation details and shows only the essential features of the object. For example, when you drive a car, you don't need to know how the engine works, you just need to know how to use the steering wheel, pedals, and gear stick.\n",
        "*   **Encapsulation:** Bundles the data (attributes) and the methods that operate on the data into a single unit (a class). It restricts direct access to some of an object's components, which is a means of preventing accidental interference and misuse of the data.\n",
        "\n",
        "### 5. What are dunder methods in Python?\n",
        "\n",
        "Dunder methods (short for \"double underscore\" methods) are special methods in Python that are surrounded by double underscores, like `__init__` or `__str__`. They are also known as magic methods. They allow you to emulate the behavior of built-in types and operators in your own classes. For example, the `__add__` method allows you to use the `+` operator on objects of your class.\n",
        "\n",
        "### 6. Explain the concept of inheritance in OOP.\n",
        "\n",
        "Inheritance is a mechanism in which one class acquires the properties (attributes and methods) of another class. The class that inherits is called the child class or subclass, and the class that is inherited from is called the parent class or superclass. This allows for code reuse and the creation of a hierarchy of classes.\n",
        "\n",
        "### 7. What is polymorphism in OOP?\n",
        "\n",
        "Polymorphism means \"many forms\". In OOP, it refers to the ability of an object to take on many forms. More specifically, it means that a method can be used on objects of different classes, and it will behave differently for each class. For example, the `+` operator can be used to add two numbers, or to concatenate two strings.\n",
        "\n",
        "### 8. How is encapsulation achieved in Python?\n",
        "\n",
        "In Python, encapsulation is achieved by making the attributes of a class private. This is done by prefixing the attribute name with a double underscore (`__`). This makes the attribute inaccessible from outside the class. However, it's important to note that this is just a convention, and the attribute can still be accessed if you know its mangled name.\n",
        "\n",
        "### 9. What is a constructor in Python?\n",
        "\n",
        "A constructor is a special method that is called when an object is created. In Python, the constructor is the `__init__` method. It is used to initialize the attributes of the object.\n",
        "\n",
        "### 10. What are class and static methods in Python?\n",
        "\n",
        "*   **Class methods:** Are bound to the class and not the object. They have access to the state of the class as it takes a class parameter, conventionally called `cls`. They are defined using the `@classmethod` decorator.\n",
        "*   **Static methods:** Are not bound to the class or the object. They are just functions that are defined inside a class. They are defined using the `@staticmethod` decorator.\n",
        "\n",
        "### 11. What is method overloading in Python?\n",
        "\n",
        "Method overloading is the ability to define multiple methods with the same name but with different parameters. Python does not support method overloading in the same way as other languages like Java or C++. However, you can achieve similar functionality by using default arguments or variable-length argument lists.\n",
        "\n",
        "### 12. What is method overriding in Python?\n",
        "\n",
        "Method overriding is a feature of inheritance where a child class can provide a specific implementation of a method that is already provided by its parent class. The overridden method in the child class has the same name, parameters, and return type as the method in the parent class.\n",
        "\n",
        "### 13. What is a property decorator in Python?\n",
        "\n",
        "The `@property` decorator is a built-in decorator in Python that allows you to define methods that can be accessed like attributes. This is useful for creating getter and setter methods for your attributes, which allows you to control how the attributes are accessed and modified."
      ]
    },
    {
      "cell_type": "markdown",
      "metadata": {
        "id": "da261d3f"
      },
      "source": [
        "### 14. Why is polymorphism important in OOP?\n",
        "\n",
        "Polymorphism is important because it allows for flexibility and code reuse. It allows you to write code that can work with objects of different classes, as long as they share a common interface. This makes your code more generic and easier to maintain. For example, you can write a function that takes a list of objects and calls a `draw()` method on each of them. As long as each object has a `draw()` method, the function will work correctly, regardless of the specific class of each object.\n",
        "\n",
        "### 15. What is an abstract class in Python?\n",
        "\n",
        "An abstract class is a class that cannot be instantiated. It is designed to be subclassed by other classes. Abstract classes can contain abstract methods, which are methods that are declared but not implemented. Subclasses of an abstract class must implement all of its abstract methods. Abstract classes are useful for creating a common interface for a group of related classes.\n",
        "\n",
        "### 16. What are the advantages of OOP?\n",
        "\n",
        "*   **Modularity:** OOP allows you to break down a complex system into smaller, more manageable objects.\n",
        "*   **Code reuse:** Inheritance allows you to reuse code from existing classes, which can save you time and effort.\n",
        "*   **Flexibility:** Polymorphism allows you to write code that can work with objects of different classes, which makes your code more flexible and easier to maintain.\n",
        "*   **Data hiding:** Encapsulation allows you to hide the implementation details of an object, which can help to prevent accidental modification of data.\n",
        "*   **Real-world modeling:** OOP allows you to model real-world objects and their interactions, which can make your code more intuitive and easier to understand.\n",
        "\n",
        "### 17. What is the difference between a class variable and an instance variable?\n",
        "\n",
        "*   **Class variable:** A class variable is a variable that is shared by all instances of a class. It is defined inside the class but outside of any methods.\n",
        "*   **Instance variable:** An instance variable is a variable that is unique to each instance of a class. It is defined inside the `__init__` method.\n",
        "\n",
        "### 18. What is multiple inheritance in Python?\n",
        "\n",
        "Multiple inheritance is a feature of OOP where a class can inherit from multiple parent classes. This allows the child class to inherit the attributes and methods of all of its parent classes.\n",
        "\n",
        "### 19. Explain the purpose of `__str__` and `__repr__` methods in Python.\n",
        "\n",
        "*   `__str__`: The `__str__` method is used to return a string representation of an object that is readable by humans. It is called by the `str()` built-in function and by the `print()` function.\n",
        "*   `__repr__`: The `__repr__` method is used to return a string representation of an object that is unambiguous and can be used to recreate the object. It is called by the `repr()` built-in function and by the interactive interpreter.\n",
        "\n",
        "### 20. What is the significance of the `__del__` method in Python?\n",
        "\n",
        "The `__del__` method is a finalizer that is called when an object is about to be destroyed. It is used to perform any cleanup tasks that are necessary before the object is garbage collected. However, it's important to note that the `__del__` method is not guaranteed to be called, so it should not be used for critical cleanup tasks.\n",
        "\n",
        "### 21. What is the difference between `@staticmethod` and `@classmethod` in Python?\n",
        "\n",
        "*   `@staticmethod`: A static method is a method that is bound to the class and not the object. It does not have access to the state of the class or the object. It is defined using the `@staticmethod` decorator.\n",
        "*   `@classmethod`: A class method is a method that is bound to the class and not the object. It has access to the state of the class as it takes a class parameter, conventionally called `cls`. It is defined using the `@classmethod` decorator.\n",
        "\n",
        "### 22. How does polymorphism work in Python with inheritance?\n",
        "\n",
        "Polymorphism works in Python with inheritance through method overriding. When a child class inherits from a parent class, it can override the methods of the parent class. This means that when you call a method on an object of the child class, the implementation of the method in the child class will be called, not the implementation in the parent class.\n",
        "\n",
        "### 23. What is method chaining in Python OOP?\n",
        "\n",
        "Method chaining is a technique where you can call multiple methods on an object in a single line of code. This is possible because each method returns the object itself, which allows you to call the next method in the chain. Method chaining can make your code more concise and readable.\n",
        "\n",
        "### 24. What is the purpose of the `__call__` method in Python?\n",
        "\n",
        "The `__call__` method allows an object to be called like a function. When you call an object that has a `__call__` method, the code inside the `__call__` method is executed. This is useful for creating objects that behave like functions.\n",
        "\n",
        "### 25. What is the purpose of the `__new__` method in Python?\n",
        "The `__new__` method is the first step in instance creation. It's a static method that is responsible for creating and returning a new instance of a class. It is called before `__init__`. You would typically override `__new__` when you need to control the creation of a new instance, for example, when subclassing an immutable type like a `tuple` or a `string`."
      ]
    },
    {
      "cell_type": "markdown",
      "source": [
        "# Practical Questions"
      ],
      "metadata": {
        "id": "FTTfIyB1_yvM"
      }
    },
    {
      "cell_type": "code",
      "source": [],
      "metadata": {
        "id": "LBFjHBjO_2iE"
      },
      "execution_count": null,
      "outputs": []
    },
    {
      "cell_type": "markdown",
      "metadata": {
        "id": "77a73207"
      },
      "source": [
        "### 1. Create a parent class `Animal` with a method `speak()` that prints a generic message. Create a child class `Dog` that overrides the `speak()` method to print \"Bark\"."
      ]
    },
    {
      "cell_type": "code",
      "metadata": {
        "colab": {
          "base_uri": "https://localhost:8080/"
        },
        "id": "2df37096",
        "outputId": "2761caf2-5503-412e-d123-0a8671237d08"
      },
      "source": [
        "class Animal:\n",
        "  def speak(self):\n",
        "    print(\"Animal speaks\")\n",
        "\n",
        "class Dog(Animal):\n",
        "  def speak(self):\n",
        "    print(\"Bark\")\n",
        "\n",
        "animal = Animal()\n",
        "animal.speak()\n",
        "\n",
        "dog = Dog()\n",
        "dog.speak()"
      ],
      "execution_count": 1,
      "outputs": [
        {
          "output_type": "stream",
          "name": "stdout",
          "text": [
            "Animal speaks\n",
            "Bark\n"
          ]
        }
      ]
    },
    {
      "cell_type": "markdown",
      "metadata": {
        "id": "c5880e60"
      },
      "source": [
        "### 2. Write a program to create a abstract class shape with a method area(). Derive classes circle and rectangle from it and implement the area() methods in both"
      ]
    },
    {
      "cell_type": "code",
      "metadata": {
        "colab": {
          "base_uri": "https://localhost:8080/"
        },
        "id": "d963bc73",
        "outputId": "3a349fa8-b376-4a72-f4db-b5f9ada4f5ce"
      },
      "source": [
        "from abc import ABC, abstractmethod\n",
        "\n",
        "class Shape(ABC):\n",
        "  @abstractmethod\n",
        "  def area(self):\n",
        "    pass\n",
        "\n",
        "class Circle(Shape):\n",
        "  def __init__(self, radius):\n",
        "    self.radius = radius\n",
        "\n",
        "  def area(self):\n",
        "    return 3.14 * self.radius * self.radius\n",
        "\n",
        "class Rectangle(Shape):\n",
        "  def __init__(self, width, height):\n",
        "    self.width = width\n",
        "    self.height = height\n",
        "\n",
        "  def area(self):\n",
        "    return self.width * self.height\n",
        "\n",
        "circle = Circle(5)\n",
        "print(\"Area of circle:\", circle.area())\n",
        "\n",
        "rectangle = Rectangle(4, 6)\n",
        "print(\"Area of rectangle:\", rectangle.area())"
      ],
      "execution_count": 2,
      "outputs": [
        {
          "output_type": "stream",
          "name": "stdout",
          "text": [
            "Area of circle: 78.5\n",
            "Area of rectangle: 24\n"
          ]
        }
      ]
    },
    {
      "cell_type": "markdown",
      "metadata": {
        "id": "88beee8f"
      },
      "source": [
        "### 3. Implement a multilevel inheritance scenario where class vehicle has an attribute type.Derive a class car and further service a class electric car that adds a battery attribute"
      ]
    },
    {
      "cell_type": "code",
      "metadata": {
        "colab": {
          "base_uri": "https://localhost:8080/"
        },
        "id": "fecac46c",
        "outputId": "01ca4843-e8a8-45f8-d1ed-84630cfc2e34"
      },
      "source": [
        "class Vehicle:\n",
        "  def __init__(self, vehicle_type):\n",
        "    self.type = vehicle_type\n",
        "\n",
        "class Car(Vehicle):\n",
        "  def __init__(self, vehicle_type, model):\n",
        "    super().__init__(vehicle_type)\n",
        "    self.model = model\n",
        "\n",
        "class ElectricCar(Car):\n",
        "  def __init__(self, vehicle_type, model, battery_size):\n",
        "    super().__init__(vehicle_type, model)\n",
        "    self.battery_size = battery_size\n",
        "\n",
        "electric_car = ElectricCar(\"Electric\", \"Tesla Model S\", \"100kWh\")\n",
        "print(f\"Type: {electric_car.type}, Model: {electric_car.model}, Battery: {electric_car.battery_size}\")"
      ],
      "execution_count": 3,
      "outputs": [
        {
          "output_type": "stream",
          "name": "stdout",
          "text": [
            "Type: Electric, Model: Tesla Model S, Battery: 100kWh\n"
          ]
        }
      ]
    },
    {
      "cell_type": "markdown",
      "metadata": {
        "id": "dc0a0786"
      },
      "source": [
        "### 4. Demonstrate polymorphism by creating a base class bird with a method fly(). Create two derived classes sparrow and pengiun that override the fly () method"
      ]
    },
    {
      "cell_type": "code",
      "metadata": {
        "colab": {
          "base_uri": "https://localhost:8080/"
        },
        "id": "752b3139",
        "outputId": "090dd435-30d8-4579-f172-c297bb33bbb6"
      },
      "source": [
        "class Bird:\n",
        "  def fly(self):\n",
        "    print(\"This bird can fly\")\n",
        "\n",
        "class Sparrow(Bird):\n",
        "  def fly(self):\n",
        "    print(\"Sparrow flies\")\n",
        "\n",
        "class Penguin(Bird):\n",
        "  def fly(self):\n",
        "    print(\"Penguin can't fly\")\n",
        "\n",
        "\n",
        "bird = Bird()\n",
        "sparrow = Sparrow()\n",
        "penguin = Penguin()\n",
        "\n",
        "bird.fly()\n",
        "sparrow.fly()\n",
        "penguin.fly()"
      ],
      "execution_count": 4,
      "outputs": [
        {
          "output_type": "stream",
          "name": "stdout",
          "text": [
            "This bird can fly\n",
            "Sparrow flies\n",
            "Penguin can't fly\n"
          ]
        }
      ]
    },
    {
      "cell_type": "markdown",
      "metadata": {
        "id": "9fd5360c"
      },
      "source": [
        "### 5. Wrtite a program to demonstrate encapsulation by creating a class bank account with private attributes balance and methods to deposit , withdraw, and check balance"
      ]
    },
    {
      "cell_type": "code",
      "metadata": {
        "colab": {
          "base_uri": "https://localhost:8080/"
        },
        "id": "0ce0e15b",
        "outputId": "8348d9c1-0721-4dc1-df8b-9f97d0174f3b"
      },
      "source": [
        "class BankAccount:\n",
        "  def __init__(self, initial_balance=0):\n",
        "    self.__balance = initial_balance\n",
        "\n",
        "  def deposit(self, amount):\n",
        "    if amount > 0:\n",
        "      self.__balance += amount\n",
        "      print(f\"Deposited ${amount}. New balance: ${self.__balance}\")\n",
        "    else:\n",
        "      print(\"Invalid deposit amount.\")\n",
        "\n",
        "  def withdraw(self, amount):\n",
        "    if 0 < amount <= self.__balance:\n",
        "      self.__balance -= amount\n",
        "      print(f\"Withdrew ${amount}. New balance: ${self.__balance}\")\n",
        "    else:\n",
        "      print(\"Invalid withdrawal amount or insufficient funds.\")\n",
        "\n",
        "  def check_balance(self):\n",
        "    print(f\"Current balance: ${self.__balance}\")\n",
        "\n",
        "\n",
        "account = BankAccount(1000)\n",
        "account.check_balance()\n",
        "account.deposit(500)\n",
        "account.withdraw(200)\n",
        "account.check_balance()"
      ],
      "execution_count": 5,
      "outputs": [
        {
          "output_type": "stream",
          "name": "stdout",
          "text": [
            "Current balance: $1000\n",
            "Deposited $500. New balance: $1500\n",
            "Withdrew $200. New balance: $1300\n",
            "Current balance: $1300\n"
          ]
        }
      ]
    },
    {
      "cell_type": "markdown",
      "metadata": {
        "id": "5b00b10a"
      },
      "source": [
        "### 6. Demonstrate runtime polumorphism using a methods play() in a base class instrument . Derive classes guitar and piano that implement their own version of play()"
      ]
    },
    {
      "cell_type": "code",
      "metadata": {
        "colab": {
          "base_uri": "https://localhost:8080/"
        },
        "id": "b3f657a5",
        "outputId": "81049c7b-3b14-4aee-ceba-ca456e18ce34"
      },
      "source": [
        "class Instrument:\n",
        "  def play(self):\n",
        "    print(\"The instrument is playing.\")\n",
        "\n",
        "class Guitar(Instrument):\n",
        "  def play(self):\n",
        "    print(\"The guitar is strumming.\")\n",
        "\n",
        "class Piano(Instrument):\n",
        "  def play(self):\n",
        "    print(\"The piano is playing a melody.\")\n",
        "\n",
        "def play_instrument(instrument):\n",
        "  instrument.play()\n",
        "\n",
        "guitar = Guitar()\n",
        "piano = Piano()\n",
        "\n",
        "play_instrument(guitar)\n",
        "play_instrument(piano)"
      ],
      "execution_count": 6,
      "outputs": [
        {
          "output_type": "stream",
          "name": "stdout",
          "text": [
            "The guitar is strumming.\n",
            "The piano is playing a melody.\n"
          ]
        }
      ]
    },
    {
      "cell_type": "markdown",
      "metadata": {
        "id": "ccf44f5b"
      },
      "source": [
        "### 7. Create a class math operations with a class methods add_numbers() to add two numbers and a static methods subtract_numbers() to subtract two numbers"
      ]
    },
    {
      "cell_type": "code",
      "metadata": {
        "colab": {
          "base_uri": "https://localhost:8080/"
        },
        "id": "8c09ec78",
        "outputId": "8b8de87b-0487-4345-cddc-d72d3711f75c"
      },
      "source": [
        "class MathOperations:\n",
        "    @classmethod\n",
        "    def add_numbers(cls, num1, num2):\n",
        "        return num1 + num2\n",
        "\n",
        "    @staticmethod\n",
        "    def subtract_numbers(num1, num2):\n",
        "        return num1 - num2\n",
        "\n",
        "print(\"Addition:\", MathOperations.add_numbers(10, 5))\n",
        "print(\"Subtraction:\", MathOperations.subtract_numbers(10, 5))"
      ],
      "execution_count": 7,
      "outputs": [
        {
          "output_type": "stream",
          "name": "stdout",
          "text": [
            "Addition: 15\n",
            "Subtraction: 5\n"
          ]
        }
      ]
    },
    {
      "cell_type": "markdown",
      "metadata": {
        "id": "f27119d4"
      },
      "source": [
        "### 8. Implement a class person with a class method to count the total number of persons created"
      ]
    },
    {
      "cell_type": "code",
      "metadata": {
        "colab": {
          "base_uri": "https://localhost:8080/"
        },
        "id": "5599124c",
        "outputId": "27c43ece-3d0f-4148-c1e6-0e9a7053658e"
      },
      "source": [
        "class Person:\n",
        "  total_persons = 0\n",
        "\n",
        "  def __init__(self, name):\n",
        "    self.name = name\n",
        "    Person.total_persons += 1\n",
        "\n",
        "  @classmethod\n",
        "  def get_total_persons(cls):\n",
        "    return cls.total_persons\n",
        "\n",
        "person1 = Person(\"Alice\")\n",
        "person2 = Person(\"Bob\")\n",
        "print(\"Total persons:\", Person.get_total_persons())"
      ],
      "execution_count": 8,
      "outputs": [
        {
          "output_type": "stream",
          "name": "stdout",
          "text": [
            "Total persons: 2\n"
          ]
        }
      ]
    },
    {
      "cell_type": "markdown",
      "metadata": {
        "id": "23921d91"
      },
      "source": [
        "### 9. Write a class fraction with attributes numerator and denominator . Override the str methods to display the fraction as numerator/denminator"
      ]
    },
    {
      "cell_type": "code",
      "metadata": {
        "colab": {
          "base_uri": "https://localhost:8080/"
        },
        "id": "857d5568",
        "outputId": "d688ded4-f08e-4551-f689-fa1dc72395cf"
      },
      "source": [
        "class Fraction:\n",
        "  def __init__(self, numerator, denominator):\n",
        "    self.numerator = numerator\n",
        "    self.denominator = denominator\n",
        "\n",
        "  def __str__(self):\n",
        "    return f\"{self.numerator}/{self.denominator}\"\n",
        "\n",
        "\n",
        "fraction = Fraction(3, 4)\n",
        "print(fraction)"
      ],
      "execution_count": 9,
      "outputs": [
        {
          "output_type": "stream",
          "name": "stdout",
          "text": [
            "3/4\n"
          ]
        }
      ]
    },
    {
      "cell_type": "markdown",
      "metadata": {
        "id": "e2b5de58"
      },
      "source": [
        "### 10. Demonstrate operator overloading by creating a class vector and overriding the add method to add two vctors"
      ]
    },
    {
      "cell_type": "code",
      "metadata": {
        "colab": {
          "base_uri": "https://localhost:8080/"
        },
        "id": "16128870",
        "outputId": "fa4cf0ae-a7c2-40dc-df31-7a06653d5121"
      },
      "source": [
        "class Vector:\n",
        "  def __init__(self, x, y):\n",
        "    self.x = x\n",
        "    self.y = y\n",
        "\n",
        "  def __add__(self, other):\n",
        "    return Vector(self.x + other.x, self.y + other.y)\n",
        "\n",
        "  def __str__(self):\n",
        "    return f\"({self.x}, {self.y})\"\n",
        "\n",
        "\n",
        "v1 = Vector(2, 3)\n",
        "v2 = Vector(4, 5)\n",
        "v3 = v1 + v2\n",
        "print(v3)"
      ],
      "execution_count": 10,
      "outputs": [
        {
          "output_type": "stream",
          "name": "stdout",
          "text": [
            "(6, 8)\n"
          ]
        }
      ]
    },
    {
      "cell_type": "markdown",
      "metadata": {
        "id": "5ee4c861"
      },
      "source": [
        "### 11. create a class person with attributes name and age. Add a methods greet() that prints\"Hello,my name is Pritam and I am 25 years old"
      ]
    },
    {
      "cell_type": "code",
      "metadata": {
        "colab": {
          "base_uri": "https://localhost:8080/"
        },
        "id": "9eefd095",
        "outputId": "4e91fac7-1836-4dc8-d190-dd6e33515d09"
      },
      "source": [
        "class Person:\n",
        "  def __init__(self, name, age):\n",
        "    self.name = name\n",
        "    self.age = age\n",
        "\n",
        "  def greet(self):\n",
        "    print(f\"Hello, my name is {self.name} and I am {self.age} years old\")\n",
        "\n",
        "\n",
        "person = Person(\"Pritam\", 25)\n",
        "person.greet()"
      ],
      "execution_count": 11,
      "outputs": [
        {
          "output_type": "stream",
          "name": "stdout",
          "text": [
            "Hello, my name is Pritam and I am 25 years old\n"
          ]
        }
      ]
    },
    {
      "cell_type": "markdown",
      "metadata": {
        "id": "33e69124"
      },
      "source": [
        "### 12. Implement a class student with attributes name and grades.create a method average_grade() to compute the average of the grades"
      ]
    },
    {
      "cell_type": "code",
      "metadata": {
        "colab": {
          "base_uri": "https://localhost:8080/"
        },
        "id": "5bd1998c",
        "outputId": "a93f50e4-e031-4a89-eda7-49170307c117"
      },
      "source": [
        "class Student:\n",
        "  def __init__(self, name, grades):\n",
        "    self.name = name\n",
        "    self.grades = grades\n",
        "\n",
        "  def average_grade(self):\n",
        "    return sum(self.grades) / len(self.grades)\n",
        "\n",
        "student = Student(\"Pritam\", [85, 92, 78, 95, 88])\n",
        "print(f\"{student.name}'s average grade is: {student.average_grade()}\")"
      ],
      "execution_count": 12,
      "outputs": [
        {
          "output_type": "stream",
          "name": "stdout",
          "text": [
            "Pritam's average grade is: 87.6\n"
          ]
        }
      ]
    },
    {
      "cell_type": "markdown",
      "metadata": {
        "id": "c7d7a33d"
      },
      "source": [
        "### 13. create a class rectangle with methods set_dimensions() to set the dimensions and area() to calculate the area"
      ]
    },
    {
      "cell_type": "code",
      "metadata": {
        "colab": {
          "base_uri": "https://localhost:8080/"
        },
        "id": "33f9c938",
        "outputId": "870ba2e7-36b6-4109-c1af-7ed18da12672"
      },
      "source": [
        "class Rectangle:\n",
        "  def __init__(self):\n",
        "    self.width = 0\n",
        "    self.height = 0\n",
        "\n",
        "  def set_dimensions(self, width, height):\n",
        "    self.width = width\n",
        "    self.height = height\n",
        "\n",
        "  def area(self):\n",
        "    return self.width * self.height\n",
        "\n",
        "rectangle = Rectangle()\n",
        "rectangle.set_dimensions(10, 5)\n",
        "print(\"Area of the rectangle:\", rectangle.area())"
      ],
      "execution_count": 13,
      "outputs": [
        {
          "output_type": "stream",
          "name": "stdout",
          "text": [
            "Area of the rectangle: 50\n"
          ]
        }
      ]
    },
    {
      "cell_type": "markdown",
      "metadata": {
        "id": "06fd39f2"
      },
      "source": [
        "### 14. create a class employee with methods calculate_salary() that computes salary based on hours worked and hourly rate. Create a derived class manager that adds a bonus to the salary"
      ]
    },
    {
      "cell_type": "code",
      "metadata": {
        "colab": {
          "base_uri": "https://localhost:8080/"
        },
        "id": "24177323",
        "outputId": "17e0446d-8c0f-4fed-c7f2-9d6efd7deb8f"
      },
      "source": [
        "class Employee:\n",
        "  def __init__(self, hours_worked, hourly_rate):\n",
        "    self.hours_worked = hours_worked\n",
        "    self.hourly_rate = hourly_rate\n",
        "\n",
        "  def calculate_salary(self):\n",
        "    return self.hours_worked * self.hourly_rate\n",
        "\n",
        "class Manager(Employee):\n",
        "  def __init__(self, hours_worked, hourly_rate, bonus):\n",
        "    super().__init__(hours_worked, hourly_rate)\n",
        "    self.bonus = bonus\n",
        "\n",
        "  def calculate_salary(self):\n",
        "    return super().calculate_salary() + self.bonus\n",
        "\n",
        "employee = Employee(40, 25)\n",
        "print(f\"Employee salary: ${employee.calculate_salary()}\")\n",
        "\n",
        "manager = Manager(40, 50, 500)\n",
        "print(f\"Manager salary: ${manager.calculate_salary()}\")"
      ],
      "execution_count": 14,
      "outputs": [
        {
          "output_type": "stream",
          "name": "stdout",
          "text": [
            "Employee salary: $1000\n",
            "Manager salary: $2500\n"
          ]
        }
      ]
    }
  ]
}